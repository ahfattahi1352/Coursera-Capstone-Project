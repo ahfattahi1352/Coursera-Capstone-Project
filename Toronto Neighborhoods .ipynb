{
    "cells": [
        {
            "metadata": {
                "collapsed": true
            },
            "cell_type": "markdown",
            "source": "<h1 align=center><font size = 7>Peer-Graded Assignment: Segmenting and Clustering Neighborhoods in Toronto</font></h1>"
        },
        {
            "metadata": {},
            "cell_type": "markdown",
            "source": "## Table of Contents\n\n<div class=\"alert alert-block alert-info\" style=\"margin-top: 10px\">\n\n<font size = 4>\n    \n1. <a href=\"#item1\">Import Necessary Libraries</a>\n    \n    \n2. <a href=\"#item2\">Download and Explore the Dataset</a>  \n    \n    \n3. <a href=\"#item3\">Data Cleaning</a>  \n    \n</font>\n</div>"
        },
        {
            "metadata": {},
            "cell_type": "markdown",
            "source": "## Import Necessary Libraries"
        },
        {
            "metadata": {},
            "cell_type": "code",
            "source": "!pip install beautifulsoup4  # Install BeautifulSoup Library\n!pip install lxml\n!pip install html5lib\n\nfrom bs4 import BeautifulSoup \nimport lxml\nimport html5lib\n\nimport numpy as np # library to handle data in a vectorized manner\n\nimport pandas as pd # library for data analsysis\nimport requests # library to handle requests\n",
            "execution_count": 9,
            "outputs": [
                {
                    "output_type": "stream",
                    "text": "Requirement already satisfied: beautifulsoup4 in /opt/conda/envs/Python36/lib/python3.6/site-packages (4.7.1)\nRequirement already satisfied: soupsieve>=1.2 in /opt/conda/envs/Python36/lib/python3.6/site-packages (from beautifulsoup4) (1.7.1)\nRequirement already satisfied: lxml in /opt/conda/envs/Python36/lib/python3.6/site-packages (4.3.1)\nRequirement already satisfied: html5lib in /opt/conda/envs/Python36/lib/python3.6/site-packages (1.0.1)\nRequirement already satisfied: webencodings in /opt/conda/envs/Python36/lib/python3.6/site-packages (from html5lib) (0.5.1)\nRequirement already satisfied: six>=1.9 in /opt/conda/envs/Python36/lib/python3.6/site-packages (from html5lib) (1.12.0)\n",
                    "name": "stdout"
                }
            ]
        },
        {
            "metadata": {},
            "cell_type": "markdown",
            "source": "## Download and Explore the Dataset"
        },
        {
            "metadata": {},
            "cell_type": "code",
            "source": "# url for CANADA Post Code from Wikipedia\nurl = \"https://en.wikipedia.org/wiki/List_of_postal_codes_of_Canada:_M\"\n\n# open the url and put the HTML into the page variable\nres = requests.get(url)\n\n# parse the HTML from our URL into the BeautifulSoup parse html format\nsoup = BeautifulSoup(res.content,\"html.parser\")\n\ntable = soup.find_all('table')[0] \ndf = pd.read_html(str(table))[0]",
            "execution_count": 10,
            "outputs": []
        },
        {
            "metadata": {},
            "cell_type": "markdown",
            "source": "## Data Cleaning"
        },
        {
            "metadata": {},
            "cell_type": "code",
            "source": "# The dataframe will consist of three columns: PostalCode, Borough, and Neighborhood\ndf.columns = ['PostalCode','Borough','Neighborhood']\n\n# keep only columns that include an assigned borough, and ignor cells with a borough that is Not assigned\ntoronto_data = df[df['Borough']!= 'Not assigned']\ntoronto_data = toronto_data.reset_index(drop=True)\n\n#More than one neighborhood can exist in one postal code area. \n#For example, in the table on the Wikipedia page, you will notice that M5A is listed twice \n#and has two neighborhoods: Harbourfront and Regent Park. These two rows will be combined \n#into one row with the neighborhoods separated with a comma as shown in row 11 in the above table.\ntoronto_data = toronto_data.groupby(\"PostalCode\").agg(lambda x:','.join(set(x)))\n\n#If a cell has a borough but a Not assigned neighborhood, then the neighborhood will be the same as the borough\ncond = toronto_data['Neighborhood'] == \"Not assigned\"\ntoronto_data.loc[cond, 'Neighborhood'] = toronto_data.loc[cond, 'Borough']\ntoronto_data.reset_index(inplace=True)\ntoronto_data.shape",
            "execution_count": 11,
            "outputs": [
                {
                    "output_type": "execute_result",
                    "execution_count": 11,
                    "data": {
                        "text/plain": "(103, 3)"
                    },
                    "metadata": {}
                }
            ]
        },
        {
            "metadata": {},
            "cell_type": "code",
            "source": "",
            "execution_count": null,
            "outputs": []
        }
    ],
    "metadata": {
        "kernelspec": {
            "name": "python3",
            "display_name": "Python 3.6",
            "language": "python"
        },
        "language_info": {
            "name": "python",
            "version": "3.6.9",
            "mimetype": "text/x-python",
            "codemirror_mode": {
                "name": "ipython",
                "version": 3
            },
            "pygments_lexer": "ipython3",
            "nbconvert_exporter": "python",
            "file_extension": ".py"
        }
    },
    "nbformat": 4,
    "nbformat_minor": 1
}