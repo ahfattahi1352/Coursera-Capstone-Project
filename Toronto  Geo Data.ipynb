{
    "cells": [
        {
            "metadata": {
                "collapsed": true
            },
            "cell_type": "markdown",
            "source": "## Toronto Geo Data"
        },
        {
            "metadata": {},
            "cell_type": "code",
            "source": "#get the geographical coordinates of the neighborhoods using the Geocoder package, \n# here is a link to a csv file that has the geographical coordinates of each postal code:\nurl = 'http://cocl.us/Geospatial_data'\ndf_GeoData = pd.read_csv(url)\ndf_GeoData.rename(columns={'Postal Code':'PostalCode'},inplace=True)\ndf_GeoData.set_index(keys='PostalCode')\n\n##merge toronto_data dataframe with according latitude and longitude\ntoronto_GeoData = pd.merge(toronto_data, df_GeoData, on='PostalCode' )\ntoronto_GeoData",
            "execution_count": null,
            "outputs": []
        }
    ],
    "metadata": {
        "kernelspec": {
            "name": "python3",
            "display_name": "Python 3.6",
            "language": "python"
        },
        "language_info": {
            "name": "python",
            "version": "3.6.9",
            "mimetype": "text/x-python",
            "codemirror_mode": {
                "name": "ipython",
                "version": 3
            },
            "pygments_lexer": "ipython3",
            "nbconvert_exporter": "python",
            "file_extension": ".py"
        }
    },
    "nbformat": 4,
    "nbformat_minor": 1
}