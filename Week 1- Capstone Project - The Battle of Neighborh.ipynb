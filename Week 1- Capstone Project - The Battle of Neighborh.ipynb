{
    "cells": [
        {
            "cell_type": "markdown",
            "metadata": {},
            "source": "# Week 1:  Peer-graded Assignment: Capstone Project - The Battle of Neighborhoods\n> ## ***Capstone Project:  Opening a Coffee-Shop in Montreal***\n"
        },
        {
            "cell_type": "markdown",
            "metadata": {},
            "source": "## 1. Introduction\n### *1.1. Business Problem*\n\nIn a metropolitan-multicultural city like Montreal, there are a number of places full of students and businesses which are suitable to open a new Coffee Shop close there. This study is going to help people planning to open a new Coffee Shop in Montreal. This idea have a heated debate over the optimal neighborhood for setting up shop, but the people would like to be located in an appropriate location of the city and in a spot where people already tend to drink Coffee. Assuming, demography of population and income are not an issue of each neighborhood in accordance with competitors already exist on the same regions. \n\n### *1.2. Target Audience*\nThe target audience of this report would be anyone who wants to buy or establish a Coffee Shop in Montreal, or anyone in Montreal just looking for a nice area to drink a coffee.\n\n## 2. Data\nIn order to provide the stakeholders the necessary information to best make this decision, some data would be needed. For the city of Montreal has some public datasets that describe various aspects of the city, and Foursquare API allows access to collect competitors data on the same neighborhoods:\n\nAltogether, there are three sets of data for our analysis:\n\n**1. Administrative boundary of the Montr\u00e9al agglomeration (Boroughs and related cities) Data**\n- This is going to help us by providing Polygons delimiting the boroughs of the City of Montreal, boroughs and related cities constituting the agglomeration of Montreal and allowing us to select one of the suitable areas for new Coffee Shop\n\n  http://donnees.ville.montreal.qc.ca/dataset/polygones-arrondissements\n\n\n**2. Montreal's Census Profile** \n- This is going to provide data contains Montreal's 2016 census Aboriginal peoples; Education; Ethnic origin; Families, households and marital status; Housing; Immigration and citizenship; Income; Journey to work; Labour; Language; Language of work; Mobility; Population; Visible minority\n\nhttps://www12.statcan.gc.ca/census-recensement/2016/dp-pd/prof/details/page_Download-Telecharger.cfm?Lang=E&Tab=1&Geo1=POPC&Code1=0547&Geo2=PR&Code2=24&SearchText=Montreal&SearchType=Begins&SearchPR=01&B1=All&TABID=1&type=0\n\n**3. Foursquare API**\n- Foursquare data is robust and provides location data allows you to retrieve information about the most popular spots in each neighborhood in Montreal. "
        },
        {
            "cell_type": "code",
            "execution_count": null,
            "metadata": {},
            "outputs": [],
            "source": ""
        }
    ],
    "metadata": {
        "kernelspec": {
            "display_name": "Python 3.6",
            "language": "python",
            "name": "python3"
        },
        "language_info": {
            "codemirror_mode": {
                "name": "ipython",
                "version": 3
            },
            "file_extension": ".py",
            "mimetype": "text/x-python",
            "name": "python",
            "nbconvert_exporter": "python",
            "pygments_lexer": "ipython3",
            "version": "3.6.9"
        }
    },
    "nbformat": 4,
    "nbformat_minor": 4
}